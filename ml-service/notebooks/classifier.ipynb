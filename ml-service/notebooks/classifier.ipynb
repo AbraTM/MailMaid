{
 "cells": [
  {
   "cell_type": "markdown",
   "id": "83af2899-eb5a-4627-b3c7-dca271254462",
   "metadata": {},
   "source": [
    "#### Importing necessary packages"
   ]
  },
  {
   "cell_type": "code",
   "execution_count": 1,
   "id": "bdb605ce-c7ff-4c5c-85a9-2f848de2d021",
   "metadata": {},
   "outputs": [],
   "source": [
    "import numpy as np\n",
    "import pandas as pd\n",
    "import matplotlib.pyplot as plot"
   ]
  },
  {
   "cell_type": "markdown",
   "id": "6b45839e-fa40-491e-9421-34586017d307",
   "metadata": {},
   "source": [
    "## Email Data"
   ]
  },
  {
   "cell_type": "code",
   "execution_count": 2,
   "id": "c54dfc09-8a13-4f80-b186-9ddf91b1cd4c",
   "metadata": {},
   "outputs": [
    {
     "data": {
      "text/html": [
       "<div>\n",
       "<style scoped>\n",
       "    .dataframe tbody tr th:only-of-type {\n",
       "        vertical-align: middle;\n",
       "    }\n",
       "\n",
       "    .dataframe tbody tr th {\n",
       "        vertical-align: top;\n",
       "    }\n",
       "\n",
       "    .dataframe thead th {\n",
       "        text-align: right;\n",
       "    }\n",
       "</style>\n",
       "<table border=\"1\" class=\"dataframe\">\n",
       "  <thead>\n",
       "    <tr style=\"text-align: right;\">\n",
       "      <th></th>\n",
       "      <th>messageID</th>\n",
       "      <th>name</th>\n",
       "      <th>senderEmail</th>\n",
       "      <th>subject</th>\n",
       "      <th>date</th>\n",
       "      <th>summary</th>\n",
       "    </tr>\n",
       "  </thead>\n",
       "  <tbody>\n",
       "    <tr>\n",
       "      <th>0</th>\n",
       "      <td>197d54c584e19ddf</td>\n",
       "      <td>Updates from GirlScript Foundation</td>\n",
       "      <td>gssoc@substack.com</td>\n",
       "      <td>Postman Challenge is Back!!</td>\n",
       "      <td>Fri, 4 Jul 2025 11:55:59 +0000</td>\n",
       "      <td>GirlScript Foundation collaborating with Postm...</td>\n",
       "    </tr>\n",
       "    <tr>\n",
       "      <th>1</th>\n",
       "      <td>197d53183de6fe84</td>\n",
       "      <td>Zomato Order</td>\n",
       "      <td>noreply@zomato.com</td>\n",
       "      <td>Your Zomato order from Bharat Chicken Inn Foods</td>\n",
       "      <td>Fri, 04 Jul 2025 11:28:00 +0000 (UTC)</td>\n",
       "      <td>Hi Tushar Malhan, Thank you for ordering from ...</td>\n",
       "    </tr>\n",
       "    <tr>\n",
       "      <th>2</th>\n",
       "      <td>197d524e7fcef449</td>\n",
       "      <td>Internshala</td>\n",
       "      <td>student@internshala.com</td>\n",
       "      <td>Top internships of the week matching your profile</td>\n",
       "      <td>Fri, 4 Jul 2025 11:14:13 +0000</td>\n",
       "      <td>Tushar, earn high stipend in your preferred fi...</td>\n",
       "    </tr>\n",
       "    <tr>\n",
       "      <th>3</th>\n",
       "      <td>197d4d0d614e6f9d</td>\n",
       "      <td>Internshala Trainings</td>\n",
       "      <td>trainings@updates.internshala.com</td>\n",
       "      <td>We have an update on your upcoming journey</td>\n",
       "      <td>Fri, 04 Jul 2025 09:42:24 +0000 (UTC)</td>\n",
       "      <td>Internshala Trainings Internshala Trainings In...</td>\n",
       "    </tr>\n",
       "    <tr>\n",
       "      <th>4</th>\n",
       "      <td>197d4cf0c5b6ecdc</td>\n",
       "      <td>faheemahmed ahmed</td>\n",
       "      <td>faheemahmed@adgips.ac.in</td>\n",
       "      <td>Fwd: Spreadsheet shared with you: ‘Company Pre...</td>\n",
       "      <td>Fri, 4 Jul 2025 15:10:15 +0530</td>\n",
       "      <td>---------- Forwarded message --------- From: S...</td>\n",
       "    </tr>\n",
       "    <tr>\n",
       "      <th>5</th>\n",
       "      <td>197d4b956b9744f9</td>\n",
       "      <td>Coding Ninjas</td>\n",
       "      <td>mailer@certifications.codingninjas.com</td>\n",
       "      <td>Update: Confirm your application for IIT-certi...</td>\n",
       "      <td>Fri, 04 Jul 2025 09:16:44 +0000</td>\n",
       "      <td>Designed with IIT faculty - Click here to know...</td>\n",
       "    </tr>\n",
       "    <tr>\n",
       "      <th>6</th>\n",
       "      <td>197d4b03262134d2</td>\n",
       "      <td>Quora Digest</td>\n",
       "      <td>english-quora-digest@quora.com</td>\n",
       "      <td>I went for a TCS drive on 3rd May 2025. I clea...</td>\n",
       "      <td>Fri, 04 Jul 2025 09:06:45 +0000</td>\n",
       "      <td>I went for a TCS drive on 3rd May 2025. I clea...</td>\n",
       "    </tr>\n",
       "    <tr>\n",
       "      <th>7</th>\n",
       "      <td>197d3cb9645eb64f</td>\n",
       "      <td>Adobe Acrobat</td>\n",
       "      <td>mail@mail.adobe.com</td>\n",
       "      <td>Make filling out forms feel better​ 📝</td>\n",
       "      <td>Thu, 03 Jul 2025 21:56:22 -0700</td>\n",
       "      <td>Take the pain out of paperwork using Acrobat P...</td>\n",
       "    </tr>\n",
       "    <tr>\n",
       "      <th>8</th>\n",
       "      <td>197d3b6ef45dcb03</td>\n",
       "      <td>Unstop Competitions</td>\n",
       "      <td>noreply@dare2compete.news</td>\n",
       "      <td>Bag a PPI with a ₹ 1 Lakh stipend per month! |...</td>\n",
       "      <td>Fri, 04 Jul 2025 10:04:30 +0530</td>\n",
       "      <td>Register now ﻿ ͏ ﻿ ͏ ﻿ ͏ ﻿ ͏ ﻿ ͏ ﻿ ͏ ﻿ ͏ ﻿ ͏ ﻿...</td>\n",
       "    </tr>\n",
       "    <tr>\n",
       "      <th>9</th>\n",
       "      <td>197d3aef663673e7</td>\n",
       "      <td>Unstop Hiring Hub</td>\n",
       "      <td>noreply@dare2compete.news</td>\n",
       "      <td>18,000+ applicants are already in the race</td>\n",
       "      <td>Fri, 04 Jul 2025 09:55:48 +0530</td>\n",
       "      <td>Apply Now! ﻿ ͏ ﻿ ͏ ﻿ ͏ ﻿ ͏ ﻿ ͏ ﻿ ͏ ﻿ ͏ ﻿ ͏ ﻿ ͏...</td>\n",
       "    </tr>\n",
       "  </tbody>\n",
       "</table>\n",
       "</div>"
      ],
      "text/plain": [
       "          messageID                                name  \\\n",
       "0  197d54c584e19ddf  Updates from GirlScript Foundation   \n",
       "1  197d53183de6fe84                        Zomato Order   \n",
       "2  197d524e7fcef449                         Internshala   \n",
       "3  197d4d0d614e6f9d               Internshala Trainings   \n",
       "4  197d4cf0c5b6ecdc                   faheemahmed ahmed   \n",
       "5  197d4b956b9744f9                       Coding Ninjas   \n",
       "6  197d4b03262134d2                        Quora Digest   \n",
       "7  197d3cb9645eb64f                       Adobe Acrobat   \n",
       "8  197d3b6ef45dcb03                 Unstop Competitions   \n",
       "9  197d3aef663673e7                   Unstop Hiring Hub   \n",
       "\n",
       "                              senderEmail  \\\n",
       "0                      gssoc@substack.com   \n",
       "1                      noreply@zomato.com   \n",
       "2                 student@internshala.com   \n",
       "3       trainings@updates.internshala.com   \n",
       "4                faheemahmed@adgips.ac.in   \n",
       "5  mailer@certifications.codingninjas.com   \n",
       "6          english-quora-digest@quora.com   \n",
       "7                     mail@mail.adobe.com   \n",
       "8               noreply@dare2compete.news   \n",
       "9               noreply@dare2compete.news   \n",
       "\n",
       "                                             subject  \\\n",
       "0                        Postman Challenge is Back!!   \n",
       "1    Your Zomato order from Bharat Chicken Inn Foods   \n",
       "2  Top internships of the week matching your profile   \n",
       "3         We have an update on your upcoming journey   \n",
       "4  Fwd: Spreadsheet shared with you: ‘Company Pre...   \n",
       "5  Update: Confirm your application for IIT-certi...   \n",
       "6  I went for a TCS drive on 3rd May 2025. I clea...   \n",
       "7              Make filling out forms feel better​ 📝   \n",
       "8  Bag a PPI with a ₹ 1 Lakh stipend per month! |...   \n",
       "9         18,000+ applicants are already in the race   \n",
       "\n",
       "                                    date  \\\n",
       "0         Fri, 4 Jul 2025 11:55:59 +0000   \n",
       "1  Fri, 04 Jul 2025 11:28:00 +0000 (UTC)   \n",
       "2         Fri, 4 Jul 2025 11:14:13 +0000   \n",
       "3  Fri, 04 Jul 2025 09:42:24 +0000 (UTC)   \n",
       "4         Fri, 4 Jul 2025 15:10:15 +0530   \n",
       "5        Fri, 04 Jul 2025 09:16:44 +0000   \n",
       "6        Fri, 04 Jul 2025 09:06:45 +0000   \n",
       "7        Thu, 03 Jul 2025 21:56:22 -0700   \n",
       "8        Fri, 04 Jul 2025 10:04:30 +0530   \n",
       "9        Fri, 04 Jul 2025 09:55:48 +0530   \n",
       "\n",
       "                                             summary  \n",
       "0  GirlScript Foundation collaborating with Postm...  \n",
       "1  Hi Tushar Malhan, Thank you for ordering from ...  \n",
       "2  Tushar, earn high stipend in your preferred fi...  \n",
       "3  Internshala Trainings Internshala Trainings In...  \n",
       "4  ---------- Forwarded message --------- From: S...  \n",
       "5  Designed with IIT faculty - Click here to know...  \n",
       "6  I went for a TCS drive on 3rd May 2025. I clea...  \n",
       "7  Take the pain out of paperwork using Acrobat P...  \n",
       "8  Register now ﻿ ͏ ﻿ ͏ ﻿ ͏ ﻿ ͏ ﻿ ͏ ﻿ ͏ ﻿ ͏ ﻿ ͏ ﻿...  \n",
       "9  Apply Now! ﻿ ͏ ﻿ ͏ ﻿ ͏ ﻿ ͏ ﻿ ͏ ﻿ ͏ ﻿ ͏ ﻿ ͏ ﻿ ͏...  "
      ]
     },
     "execution_count": 2,
     "metadata": {},
     "output_type": "execute_result"
    }
   ],
   "source": [
    "raw_df = pd.read_json(\"../data/base_data.json\")\n",
    "raw_df.head(10)"
   ]
  },
  {
   "cell_type": "markdown",
   "id": "9383c995-9589-46de-9a5c-0cd17724b2f6",
   "metadata": {},
   "source": [
    "### Pre-Processing / Cleaning the data"
   ]
  },
  {
   "cell_type": "code",
   "execution_count": 3,
   "id": "bde84471-034a-41ed-a3ab-a7a803bf7650",
   "metadata": {},
   "outputs": [
    {
     "data": {
      "text/html": [
       "<div>\n",
       "<style scoped>\n",
       "    .dataframe tbody tr th:only-of-type {\n",
       "        vertical-align: middle;\n",
       "    }\n",
       "\n",
       "    .dataframe tbody tr th {\n",
       "        vertical-align: top;\n",
       "    }\n",
       "\n",
       "    .dataframe thead th {\n",
       "        text-align: right;\n",
       "    }\n",
       "</style>\n",
       "<table border=\"1\" class=\"dataframe\">\n",
       "  <thead>\n",
       "    <tr style=\"text-align: right;\">\n",
       "      <th></th>\n",
       "      <th>messageID</th>\n",
       "      <th>text</th>\n",
       "    </tr>\n",
       "  </thead>\n",
       "  <tbody>\n",
       "    <tr>\n",
       "      <th>0</th>\n",
       "      <td>197d54c584e19ddf</td>\n",
       "      <td>Postman Challenge is Back!! GirlScript Foundat...</td>\n",
       "    </tr>\n",
       "    <tr>\n",
       "      <th>1</th>\n",
       "      <td>197d53183de6fe84</td>\n",
       "      <td>Your Zomato order from Bharat Chicken Inn Food...</td>\n",
       "    </tr>\n",
       "    <tr>\n",
       "      <th>2</th>\n",
       "      <td>197d524e7fcef449</td>\n",
       "      <td>Top internships of the week matching your prof...</td>\n",
       "    </tr>\n",
       "    <tr>\n",
       "      <th>3</th>\n",
       "      <td>197d4d0d614e6f9d</td>\n",
       "      <td>We have an update on your upcoming journey Int...</td>\n",
       "    </tr>\n",
       "    <tr>\n",
       "      <th>4</th>\n",
       "      <td>197d4cf0c5b6ecdc</td>\n",
       "      <td>Fwd: Spreadsheet shared with you: ‘Company Pre...</td>\n",
       "    </tr>\n",
       "    <tr>\n",
       "      <th>5</th>\n",
       "      <td>197d4b956b9744f9</td>\n",
       "      <td>Update: Confirm your application for IIT-certi...</td>\n",
       "    </tr>\n",
       "    <tr>\n",
       "      <th>6</th>\n",
       "      <td>197d4b03262134d2</td>\n",
       "      <td>I went for a TCS drive on 3rd May 2025. I clea...</td>\n",
       "    </tr>\n",
       "    <tr>\n",
       "      <th>7</th>\n",
       "      <td>197d3cb9645eb64f</td>\n",
       "      <td>Make filling out forms feel better​ 📝 Take the...</td>\n",
       "    </tr>\n",
       "    <tr>\n",
       "      <th>8</th>\n",
       "      <td>197d3b6ef45dcb03</td>\n",
       "      <td>Bag a PPI with a ₹ 1 Lakh stipend per month! |...</td>\n",
       "    </tr>\n",
       "    <tr>\n",
       "      <th>9</th>\n",
       "      <td>197d3aef663673e7</td>\n",
       "      <td>18,000+ applicants are already in the race App...</td>\n",
       "    </tr>\n",
       "  </tbody>\n",
       "</table>\n",
       "</div>"
      ],
      "text/plain": [
       "          messageID                                               text\n",
       "0  197d54c584e19ddf  Postman Challenge is Back!! GirlScript Foundat...\n",
       "1  197d53183de6fe84  Your Zomato order from Bharat Chicken Inn Food...\n",
       "2  197d524e7fcef449  Top internships of the week matching your prof...\n",
       "3  197d4d0d614e6f9d  We have an update on your upcoming journey Int...\n",
       "4  197d4cf0c5b6ecdc  Fwd: Spreadsheet shared with you: ‘Company Pre...\n",
       "5  197d4b956b9744f9  Update: Confirm your application for IIT-certi...\n",
       "6  197d4b03262134d2  I went for a TCS drive on 3rd May 2025. I clea...\n",
       "7  197d3cb9645eb64f  Make filling out forms feel better​ 📝 Take the...\n",
       "8  197d3b6ef45dcb03  Bag a PPI with a ₹ 1 Lakh stipend per month! |...\n",
       "9  197d3aef663673e7  18,000+ applicants are already in the race App..."
      ]
     },
     "execution_count": 3,
     "metadata": {},
     "output_type": "execute_result"
    }
   ],
   "source": [
    "raw_df[\"text\"] = raw_df[\"subject\"].fillna(\"\") + \" \" + raw_df[\"summary\"]\n",
    "# Dropping uneccessary columns\n",
    "df = raw_df.drop(columns=[\"name\", \"senderEmail\", \"subject\", \"date\", \"summary\"])\n",
    "df.reset_index(drop = True, inplace = True)\n",
    "df.head(10)"
   ]
  },
  {
   "cell_type": "markdown",
   "id": "ccaaa8de-bc4c-4758-9de2-628a1155e38e",
   "metadata": {},
   "source": [
    "### Using 10 predefined labels to weakly classify email data\n",
    "\n",
    "\n",
    "#### Predefined Classes : \n",
    "##### 1. Food Orders\n",
    "##### 2. Google Forms\n",
    "##### 3. Login Attempts\n",
    "##### 4. Invoice Receipts\n",
    "##### 5. News Letters\n",
    "##### 6. Travel Bookings\n",
    "##### 7. LinkedIn\n",
    "##### 8. Promotions\n",
    "##### 9. Social Media\n",
    "##### 10. Others\n",
    "\n",
    "<br>\n",
    "\n",
    "### Initially classifing with weak labels with basic if else statements\n"
   ]
  },
  {
   "cell_type": "code",
   "execution_count": 4,
   "id": "7b2c33c8-7fef-41e6-b361-93612334a679",
   "metadata": {},
   "outputs": [],
   "source": [
    "def weak_classify(email_text):\n",
    "    text = email_text.lower()\n",
    "    if \"swiggy\" in text or \"zomato\" in text or \"blinkit\" in text or \"zepto\" in text or \"uber eats\" in text or \"delivered\" in text or \"order\" in text:\n",
    "        return \"FoodOrders\"\n",
    "    elif \"form submission\" in text or \"response recorded\" in text or \"google form\" in text:\n",
    "        return \"GoogleForm\"\n",
    "    elif \"login attempt\" in text or \"new sign-in\" in text or \"security alert\" in text:\n",
    "        return \"LoginAttempt\"\n",
    "    elif \"invoice\" in text or \"receipt\" in text or \"payment successful\" in text or \"transaction\" in text:\n",
    "        return \"InvoiceReceipt\"\n",
    "    elif \"digest\" in text or \"quora\" in text or \"newsletter\" in text or \"weekly update\" in text or \"top stories\" in text:\n",
    "        return \"NewsLetter\"\n",
    "    elif \"flight\" in text or \"booking\" in text or \"pnr\" in text or \"hotel\" in text or \"reservation\" in text:\n",
    "        return \"TravelBooking\"\n",
    "    elif \"linkedin\" in text or \"profile views\" in text or \"connection request\" in text or \"job alert\" in text:\n",
    "        return \"LinkedIn\"\n",
    "    elif \"sale\" in text or \"offer\" in text or \"discount\" in text or \"deal\" in text:\n",
    "        return \"Promotions\"\n",
    "    elif \"facebook\" in text or \"instagram\" in text or \"twitter\" in text or \"like\" in text or \"comment\" in text or \"threads\" in text or \"reddit\" in text:\n",
    "        return \"SocialMedia\"\n",
    "    else:\n",
    "        return \"Others\""
   ]
  },
  {
   "cell_type": "markdown",
   "id": "9495690d-5658-4118-9b82-df8fe533d0ab",
   "metadata": {},
   "source": [
    "#### Using weak_classify to assign labels to unlabeled raw data"
   ]
  },
  {
   "cell_type": "code",
   "execution_count": 5,
   "id": "0a9736d2-c5c5-4c5f-a625-5b0a9df4df2a",
   "metadata": {},
   "outputs": [
    {
     "data": {
      "text/html": [
       "<div>\n",
       "<style scoped>\n",
       "    .dataframe tbody tr th:only-of-type {\n",
       "        vertical-align: middle;\n",
       "    }\n",
       "\n",
       "    .dataframe tbody tr th {\n",
       "        vertical-align: top;\n",
       "    }\n",
       "\n",
       "    .dataframe thead th {\n",
       "        text-align: right;\n",
       "    }\n",
       "</style>\n",
       "<table border=\"1\" class=\"dataframe\">\n",
       "  <thead>\n",
       "    <tr style=\"text-align: right;\">\n",
       "      <th></th>\n",
       "      <th>messageID</th>\n",
       "      <th>text</th>\n",
       "      <th>label</th>\n",
       "    </tr>\n",
       "  </thead>\n",
       "  <tbody>\n",
       "    <tr>\n",
       "      <th>0</th>\n",
       "      <td>197d54c584e19ddf</td>\n",
       "      <td>Postman Challenge is Back!! GirlScript Foundat...</td>\n",
       "      <td>Others</td>\n",
       "    </tr>\n",
       "    <tr>\n",
       "      <th>1</th>\n",
       "      <td>197d53183de6fe84</td>\n",
       "      <td>Your Zomato order from Bharat Chicken Inn Food...</td>\n",
       "      <td>FoodOrders</td>\n",
       "    </tr>\n",
       "    <tr>\n",
       "      <th>2</th>\n",
       "      <td>197d524e7fcef449</td>\n",
       "      <td>Top internships of the week matching your prof...</td>\n",
       "      <td>Others</td>\n",
       "    </tr>\n",
       "    <tr>\n",
       "      <th>3</th>\n",
       "      <td>197d4d0d614e6f9d</td>\n",
       "      <td>We have an update on your upcoming journey Int...</td>\n",
       "      <td>FoodOrders</td>\n",
       "    </tr>\n",
       "    <tr>\n",
       "      <th>4</th>\n",
       "      <td>197d4cf0c5b6ecdc</td>\n",
       "      <td>Fwd: Spreadsheet shared with you: ‘Company Pre...</td>\n",
       "      <td>Others</td>\n",
       "    </tr>\n",
       "    <tr>\n",
       "      <th>5</th>\n",
       "      <td>197d4b956b9744f9</td>\n",
       "      <td>Update: Confirm your application for IIT-certi...</td>\n",
       "      <td>LinkedIn</td>\n",
       "    </tr>\n",
       "    <tr>\n",
       "      <th>6</th>\n",
       "      <td>197d4b03262134d2</td>\n",
       "      <td>I went for a TCS drive on 3rd May 2025. I clea...</td>\n",
       "      <td>Others</td>\n",
       "    </tr>\n",
       "    <tr>\n",
       "      <th>7</th>\n",
       "      <td>197d3cb9645eb64f</td>\n",
       "      <td>Make filling out forms feel better​ 📝 Take the...</td>\n",
       "      <td>Others</td>\n",
       "    </tr>\n",
       "    <tr>\n",
       "      <th>8</th>\n",
       "      <td>197d3b6ef45dcb03</td>\n",
       "      <td>Bag a PPI with a ₹ 1 Lakh stipend per month! |...</td>\n",
       "      <td>Others</td>\n",
       "    </tr>\n",
       "    <tr>\n",
       "      <th>9</th>\n",
       "      <td>197d3aef663673e7</td>\n",
       "      <td>18,000+ applicants are already in the race App...</td>\n",
       "      <td>Others</td>\n",
       "    </tr>\n",
       "  </tbody>\n",
       "</table>\n",
       "</div>"
      ],
      "text/plain": [
       "          messageID                                               text  \\\n",
       "0  197d54c584e19ddf  Postman Challenge is Back!! GirlScript Foundat...   \n",
       "1  197d53183de6fe84  Your Zomato order from Bharat Chicken Inn Food...   \n",
       "2  197d524e7fcef449  Top internships of the week matching your prof...   \n",
       "3  197d4d0d614e6f9d  We have an update on your upcoming journey Int...   \n",
       "4  197d4cf0c5b6ecdc  Fwd: Spreadsheet shared with you: ‘Company Pre...   \n",
       "5  197d4b956b9744f9  Update: Confirm your application for IIT-certi...   \n",
       "6  197d4b03262134d2  I went for a TCS drive on 3rd May 2025. I clea...   \n",
       "7  197d3cb9645eb64f  Make filling out forms feel better​ 📝 Take the...   \n",
       "8  197d3b6ef45dcb03  Bag a PPI with a ₹ 1 Lakh stipend per month! |...   \n",
       "9  197d3aef663673e7  18,000+ applicants are already in the race App...   \n",
       "\n",
       "        label  \n",
       "0      Others  \n",
       "1  FoodOrders  \n",
       "2      Others  \n",
       "3  FoodOrders  \n",
       "4      Others  \n",
       "5    LinkedIn  \n",
       "6      Others  \n",
       "7      Others  \n",
       "8      Others  \n",
       "9      Others  "
      ]
     },
     "execution_count": 5,
     "metadata": {},
     "output_type": "execute_result"
    }
   ],
   "source": [
    "df[\"label\"] = df[\"text\"].apply(weak_classify)\n",
    "df.head(10)"
   ]
  },
  {
   "cell_type": "markdown",
   "id": "8a0b349c-07cb-44ca-8679-02d49e8a866b",
   "metadata": {},
   "source": [
    "### Emails form each weak label"
   ]
  },
  {
   "cell_type": "code",
   "execution_count": 6,
   "id": "7dc8194c-c905-4d97-84d5-abe75bad8448",
   "metadata": {},
   "outputs": [
    {
     "name": "stdout",
     "output_type": "stream",
     "text": [
      "label\n",
      "Others            368\n",
      "Promotions         35\n",
      "NewsLetter         28\n",
      "FoodOrders         23\n",
      "SocialMedia        21\n",
      "LinkedIn           14\n",
      "GoogleForm          6\n",
      "InvoiceReceipt      3\n",
      "TravelBooking       1\n",
      "LoginAttempt        1\n",
      "Name: count, dtype: int64\n"
     ]
    }
   ],
   "source": [
    "print(df[\"label\"].value_counts())"
   ]
  },
  {
   "cell_type": "markdown",
   "id": "246df7d8-aeb5-4ad6-a50c-e17bfaa33ff3",
   "metadata": {},
   "source": [
    "### Removing Weak Labels with very small count beacause they don't really help with classification"
   ]
  },
  {
   "cell_type": "code",
   "execution_count": 6,
   "id": "6f388eac-d0ce-4e15-b647-cfa725c80022",
   "metadata": {},
   "outputs": [],
   "source": [
    "counts = df[\"label\"].value_counts();\n",
    "small_classes = []\n",
    "for label, count in counts.items():\n",
    "    if count < 20:\n",
    "        small_classes.append(label)\n",
    "\n",
    "df[\"label\"] = df[\"label\"].apply(lambda x: \"Others\" if x in small_classes else x)"
   ]
  },
  {
   "cell_type": "markdown",
   "id": "2884a6bc-7871-40b6-9c4a-8e05b823b45b",
   "metadata": {},
   "source": [
    "### Downsample \"Others\" class as it count is much greater than any other class"
   ]
  },
  {
   "cell_type": "code",
   "execution_count": 7,
   "id": "93b4024e-9bf5-4849-a210-16b993d2a538",
   "metadata": {},
   "outputs": [
    {
     "name": "stdout",
     "output_type": "stream",
     "text": [
      "label\n",
      "Others         40\n",
      "Promotions     33\n",
      "NewsLetter     28\n",
      "FoodOrders     22\n",
      "SocialMedia    20\n",
      "Name: count, dtype: int64\n"
     ]
    }
   ],
   "source": [
    "from sklearn.utils import resample\n",
    "df_majority = df[df.label == \"Others\"]\n",
    "df_minority = df[df.label != \"Others\"]\n",
    "\n",
    "df_majority_downsampled = resample(\n",
    "    df_majority,\n",
    "    replace=False,\n",
    "    n_samples=40, \n",
    "    random_state=10\n",
    ")\n",
    "\n",
    "df_balanced = pd.concat([df_minority, df_majority_downsampled])\n",
    "print(df_balanced[\"label\"].value_counts())"
   ]
  },
  {
   "cell_type": "markdown",
   "id": "47d46b17-4a1d-4b6b-89db-4d9434ca8c2c",
   "metadata": {},
   "source": [
    "### Splitting the data into train and test"
   ]
  },
  {
   "cell_type": "code",
   "execution_count": 8,
   "id": "89d6205e-6881-434a-a8ad-245f256f6121",
   "metadata": {},
   "outputs": [],
   "source": [
    "from sklearn.model_selection import train_test_split\n",
    "X = df_balanced[\"text\"]\n",
    "y = df_balanced[\"label\"]\n",
    "\n",
    "X_train, X_test, y_train, y_test = train_test_split(X, y, test_size = 0.2, random_state = 10)"
   ]
  },
  {
   "cell_type": "markdown",
   "id": "8ce8bf1c-5785-4fd6-bb20-b757c2d515e5",
   "metadata": {},
   "source": [
    "### Training a logistic regression model to predict labels for future emails instead of relying on weak labels\n",
    "\n",
    "<br/>\n",
    "\n",
    "##### -- Since logistic regression can't directly understand words we need to use something called word embedding that converts words in vectors, more specifically using TF-IDF (Term Frequency Inverse Document Frequency) word embedding which is a frequency based word embedding. TF-IDF calculates how rare a frequent word in a document is in a corpus of documents, can be used to fugure out the keywords in a document."
   ]
  },
  {
   "cell_type": "code",
   "execution_count": 10,
   "id": "d181f194-e5c1-4aff-b139-dda0f4b23134",
   "metadata": {},
   "outputs": [],
   "source": [
    "from sklearn.feature_extraction.text import TfidfVectorizer\n",
    "from sklearn.linear_model import LogisticRegression\n",
    "\n",
    "vectorizer = TfidfVectorizer(stop_words=\"english\", max_features=1000)\n",
    "X_train_vec = vectorizer.fit_transform(X_train)\n",
    "X_test_vec = vectorizer.transform(X_test)\n",
    "\n",
    "clf = LogisticRegression(max_iter=1000, class_weight=\"balanced\", random_state=10)\n",
    "clf.fit(X_train_vec, y_train)\n",
    "\n",
    "y_pred = clf.predict(X_test_vec)"
   ]
  },
  {
   "cell_type": "markdown",
   "id": "9a2ea16e-6a8f-4b8d-a650-444579503345",
   "metadata": {},
   "source": [
    "### Performance Report"
   ]
  },
  {
   "cell_type": "code",
   "execution_count": 11,
   "id": "6ac8c475-1a87-4f6e-8f67-0fea6259c0b7",
   "metadata": {},
   "outputs": [
    {
     "name": "stdout",
     "output_type": "stream",
     "text": [
      "              precision    recall  f1-score   support\n",
      "\n",
      "  FoodOrders       1.00      0.75      0.86         4\n",
      "  NewsLetter       0.75      0.75      0.75         4\n",
      "      Others       0.45      0.83      0.59         6\n",
      "  Promotions       1.00      0.67      0.80         9\n",
      " SocialMedia       1.00      0.83      0.91         6\n",
      "\n",
      "    accuracy                           0.76        29\n",
      "   macro avg       0.84      0.77      0.78        29\n",
      "weighted avg       0.85      0.76      0.78        29\n",
      "\n"
     ]
    }
   ],
   "source": [
    "from sklearn.metrics import classification_report\n",
    "print(classification_report(y_test, y_pred))"
   ]
  },
  {
   "cell_type": "markdown",
   "id": "48a29b8d-a82c-4041-91d5-6a6566f6ceff",
   "metadata": {},
   "source": [
    "### Example Data"
   ]
  },
  {
   "cell_type": "code",
   "execution_count": 13,
   "id": "12772515-0658-42dc-9fd8-7dece6427af0",
   "metadata": {},
   "outputs": [
    {
     "name": "stdout",
     "output_type": "stream",
     "text": [
      "Text: Your Swiggy order #1234 has been delivered successfully. Enjoy your meal!\n",
      "Predicted label: FoodOrders\n",
      "Text: Your response has been recorded for Google Form: Feedback Survey 2025.\n",
      "Predicted label: Others\n",
      "Text: New sign-in attempt detected on your account from a new device. Was this you?\n",
      "Predicted label: Others\n",
      "Text: Quora Digest: Top stories for you this week — Discover trending questions and answers.\n",
      "Predicted label: NewsLetter\n"
     ]
    }
   ],
   "source": [
    "examples = [\n",
    "    \"Your Swiggy order #1234 has been delivered successfully. Enjoy your meal!\",\n",
    "    \"Your response has been recorded for Google Form: Feedback Survey 2025.\",\n",
    "    \"New sign-in attempt detected on your account from a new device. Was this you?\",\n",
    "    \"Quora Digest: Top stories for you this week — Discover trending questions and answers.\",\n",
    "]\n",
    "\n",
    "example_vecs = vectorizer.transform(examples)\n",
    "predicted_labels = clf.predict(example_vecs)\n",
    "for text, label in zip(examples, predicted_labels):\n",
    "    print(f\"Text: {text}\")\n",
    "    print(f\"Predicted label: {label}\")\n"
   ]
  }
 ],
 "metadata": {
  "kernelspec": {
   "display_name": "Python 3 (ipykernel)",
   "language": "python",
   "name": "python3"
  },
  "language_info": {
   "codemirror_mode": {
    "name": "ipython",
    "version": 3
   },
   "file_extension": ".py",
   "mimetype": "text/x-python",
   "name": "python",
   "nbconvert_exporter": "python",
   "pygments_lexer": "ipython3",
   "version": "3.12.6"
  }
 },
 "nbformat": 4,
 "nbformat_minor": 5
}
