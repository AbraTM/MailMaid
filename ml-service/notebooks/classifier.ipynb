{
 "cells": [
  {
   "cell_type": "markdown",
   "id": "83af2899-eb5a-4627-b3c7-dca271254462",
   "metadata": {},
   "source": [
    "#### Importing necessary packages"
   ]
  },
  {
   "cell_type": "code",
   "execution_count": 1,
   "id": "bdb605ce-c7ff-4c5c-85a9-2f848de2d021",
   "metadata": {},
   "outputs": [],
   "source": [
    "import numpy as np\n",
    "import pandas as pd\n",
    "import matplotlib.pyplot as plot"
   ]
  },
  {
   "cell_type": "markdown",
   "id": "6b45839e-fa40-491e-9421-34586017d307",
   "metadata": {},
   "source": [
    "## Email Data"
   ]
  },
  {
   "cell_type": "code",
   "execution_count": 2,
   "id": "c54dfc09-8a13-4f80-b186-9ddf91b1cd4c",
   "metadata": {},
   "outputs": [
    {
     "data": {
      "text/html": [
       "<div>\n",
       "<style scoped>\n",
       "    .dataframe tbody tr th:only-of-type {\n",
       "        vertical-align: middle;\n",
       "    }\n",
       "\n",
       "    .dataframe tbody tr th {\n",
       "        vertical-align: top;\n",
       "    }\n",
       "\n",
       "    .dataframe thead th {\n",
       "        text-align: right;\n",
       "    }\n",
       "</style>\n",
       "<table border=\"1\" class=\"dataframe\">\n",
       "  <thead>\n",
       "    <tr style=\"text-align: right;\">\n",
       "      <th></th>\n",
       "      <th>messageID</th>\n",
       "      <th>name</th>\n",
       "      <th>senderEmail</th>\n",
       "      <th>subject</th>\n",
       "      <th>date</th>\n",
       "      <th>summary</th>\n",
       "    </tr>\n",
       "  </thead>\n",
       "  <tbody>\n",
       "    <tr>\n",
       "      <th>0</th>\n",
       "      <td>197cfc8937b8783a</td>\n",
       "      <td>MongoDB Cloud</td>\n",
       "      <td>cloud-manager-support@mongodb.com</td>\n",
       "      <td>Successful sign-in for tusharmalhan2564@gmail....</td>\n",
       "      <td>Thu, 3 Jul 2025 10:15:16 +0000</td>\n",
       "      <td>We&amp;#39;re verifying a recent sign-in for tusha...</td>\n",
       "    </tr>\n",
       "    <tr>\n",
       "      <th>1</th>\n",
       "      <td>197cfa018674ba34</td>\n",
       "      <td>LinkedIn</td>\n",
       "      <td>notifications-noreply@linkedin.com</td>\n",
       "      <td>You appeared in 3 searches</td>\n",
       "      <td>Thu, 3 Jul 2025 09:31:04 +0000 (UTC)</td>\n",
       "      <td>See who searched for your profile ͏ ͏ ͏ ͏ ͏ ͏ ...</td>\n",
       "    </tr>\n",
       "    <tr>\n",
       "      <th>2</th>\n",
       "      <td>197cf7635329e0bf</td>\n",
       "      <td>Tushar Malhan</td>\n",
       "      <td>tusharmalhan2564@gmail.com</td>\n",
       "      <td>Re: JD | Intern - Full Stack Developer | Vappco</td>\n",
       "      <td>Thu, 3 Jul 2025 14:15:19 +0530</td>\n",
       "      <td>Dear Pushti, Thank you for sharing the Job Des...</td>\n",
       "    </tr>\n",
       "    <tr>\n",
       "      <th>3</th>\n",
       "      <td>197cf5509cf808fb</td>\n",
       "      <td>pushti.pathania@vappco.com</td>\n",
       "      <td>pushti.pathania@vappco.com</td>\n",
       "      <td>JD | Intern - Full Stack Developer | Vappco</td>\n",
       "      <td>Thu, 3 Jul 2025 08:08:53 +0000</td>\n",
       "      <td>Dear Tushar, It was a pleasure speaking with y...</td>\n",
       "    </tr>\n",
       "    <tr>\n",
       "      <th>4</th>\n",
       "      <td>197cf52d3cb22f49</td>\n",
       "      <td>Adobe India Hackathon</td>\n",
       "      <td>noreply@dare2compete.news</td>\n",
       "      <td>Tushar, Adobe is looking for you! Internship O...</td>\n",
       "      <td>Thu, 03 Jul 2025 13:36:40 +0530</td>\n",
       "      <td>Adobe India Hackathon - Apply now! ﻿ ͏ ﻿ ͏ ﻿ ͏...</td>\n",
       "    </tr>\n",
       "    <tr>\n",
       "      <th>5</th>\n",
       "      <td>197cf35863fade10</td>\n",
       "      <td>Adobe India Hackathon</td>\n",
       "      <td>noreply@dare2compete.news</td>\n",
       "      <td>Adobe is hiring interns at INR 1 lakh/Month | ...</td>\n",
       "      <td>Thu, 03 Jul 2025 13:04:40 +0530</td>\n",
       "      <td>Tushar, increase your chances of selection! ﻿ ...</td>\n",
       "    </tr>\n",
       "    <tr>\n",
       "      <th>6</th>\n",
       "      <td>197cefee67b68ba0</td>\n",
       "      <td>Unstop Insights</td>\n",
       "      <td>noreply@dare2compete.news</td>\n",
       "      <td>[Last Day] IBM’s SkillsBuild virtual internshi...</td>\n",
       "      <td>Thu, 03 Jul 2025 12:05:01 +0530</td>\n",
       "      <td>Less than 24 hours to go | 4000 seats ﻿ ͏ ﻿ ͏ ...</td>\n",
       "    </tr>\n",
       "    <tr>\n",
       "      <th>7</th>\n",
       "      <td>197cee8a247560c1</td>\n",
       "      <td>Zomato</td>\n",
       "      <td>noreply@mailers.zomato.com</td>\n",
       "      <td>Powered through the week? Now, power up at Cos...</td>\n",
       "      <td>Thu, 03 Jul 2025 06:10:41 +0000 (UTC)</td>\n",
       "      <td>You&amp;#39;ve been in grind mode all week. Time t...</td>\n",
       "    </tr>\n",
       "    <tr>\n",
       "      <th>8</th>\n",
       "      <td>197cecaddc2cca3b</td>\n",
       "      <td>Amazon.in</td>\n",
       "      <td>store-news@amazon.in</td>\n",
       "      <td>We found something you might like</td>\n",
       "      <td>Thu, 3 Jul 2025 05:38:10 +0000</td>\n",
       "      <td>How about another look? Keep shopping your rec...</td>\n",
       "    </tr>\n",
       "    <tr>\n",
       "      <th>9</th>\n",
       "      <td>197ce887aad98b83</td>\n",
       "      <td>Unstop Hiring Hub</td>\n",
       "      <td>noreply@dare2compete.news</td>\n",
       "      <td>Your skills are in demand, Tushar</td>\n",
       "      <td>Thu, 03 Jul 2025 09:55:40 +0530</td>\n",
       "      <td>Let&amp;#39;s match them with the right roles. ﻿ ͏...</td>\n",
       "    </tr>\n",
       "  </tbody>\n",
       "</table>\n",
       "</div>"
      ],
      "text/plain": [
       "          messageID                        name  \\\n",
       "0  197cfc8937b8783a               MongoDB Cloud   \n",
       "1  197cfa018674ba34                    LinkedIn   \n",
       "2  197cf7635329e0bf               Tushar Malhan   \n",
       "3  197cf5509cf808fb  pushti.pathania@vappco.com   \n",
       "4  197cf52d3cb22f49       Adobe India Hackathon   \n",
       "5  197cf35863fade10       Adobe India Hackathon   \n",
       "6  197cefee67b68ba0             Unstop Insights   \n",
       "7  197cee8a247560c1                      Zomato   \n",
       "8  197cecaddc2cca3b                   Amazon.in   \n",
       "9  197ce887aad98b83           Unstop Hiring Hub   \n",
       "\n",
       "                          senderEmail  \\\n",
       "0   cloud-manager-support@mongodb.com   \n",
       "1  notifications-noreply@linkedin.com   \n",
       "2          tusharmalhan2564@gmail.com   \n",
       "3          pushti.pathania@vappco.com   \n",
       "4           noreply@dare2compete.news   \n",
       "5           noreply@dare2compete.news   \n",
       "6           noreply@dare2compete.news   \n",
       "7          noreply@mailers.zomato.com   \n",
       "8                store-news@amazon.in   \n",
       "9           noreply@dare2compete.news   \n",
       "\n",
       "                                             subject  \\\n",
       "0  Successful sign-in for tusharmalhan2564@gmail....   \n",
       "1                         You appeared in 3 searches   \n",
       "2    Re: JD | Intern - Full Stack Developer | Vappco   \n",
       "3        JD | Intern - Full Stack Developer | Vappco   \n",
       "4  Tushar, Adobe is looking for you! Internship O...   \n",
       "5  Adobe is hiring interns at INR 1 lakh/Month | ...   \n",
       "6  [Last Day] IBM’s SkillsBuild virtual internshi...   \n",
       "7  Powered through the week? Now, power up at Cos...   \n",
       "8                  We found something you might like   \n",
       "9                  Your skills are in demand, Tushar   \n",
       "\n",
       "                                    date  \\\n",
       "0         Thu, 3 Jul 2025 10:15:16 +0000   \n",
       "1   Thu, 3 Jul 2025 09:31:04 +0000 (UTC)   \n",
       "2         Thu, 3 Jul 2025 14:15:19 +0530   \n",
       "3         Thu, 3 Jul 2025 08:08:53 +0000   \n",
       "4        Thu, 03 Jul 2025 13:36:40 +0530   \n",
       "5        Thu, 03 Jul 2025 13:04:40 +0530   \n",
       "6        Thu, 03 Jul 2025 12:05:01 +0530   \n",
       "7  Thu, 03 Jul 2025 06:10:41 +0000 (UTC)   \n",
       "8         Thu, 3 Jul 2025 05:38:10 +0000   \n",
       "9        Thu, 03 Jul 2025 09:55:40 +0530   \n",
       "\n",
       "                                             summary  \n",
       "0  We&#39;re verifying a recent sign-in for tusha...  \n",
       "1  See who searched for your profile ͏ ͏ ͏ ͏ ͏ ͏ ...  \n",
       "2  Dear Pushti, Thank you for sharing the Job Des...  \n",
       "3  Dear Tushar, It was a pleasure speaking with y...  \n",
       "4  Adobe India Hackathon - Apply now! ﻿ ͏ ﻿ ͏ ﻿ ͏...  \n",
       "5  Tushar, increase your chances of selection! ﻿ ...  \n",
       "6  Less than 24 hours to go | 4000 seats ﻿ ͏ ﻿ ͏ ...  \n",
       "7  You&#39;ve been in grind mode all week. Time t...  \n",
       "8  How about another look? Keep shopping your rec...  \n",
       "9  Let&#39;s match them with the right roles. ﻿ ͏...  "
      ]
     },
     "execution_count": 2,
     "metadata": {},
     "output_type": "execute_result"
    }
   ],
   "source": [
    "raw_df = pd.read_json(\"../data.json\")\n",
    "raw_df.head(10)"
   ]
  },
  {
   "cell_type": "markdown",
   "id": "9383c995-9589-46de-9a5c-0cd17724b2f6",
   "metadata": {},
   "source": [
    "### Pre-Processing / Cleaning the data"
   ]
  },
  {
   "cell_type": "code",
   "execution_count": 3,
   "id": "bde84471-034a-41ed-a3ab-a7a803bf7650",
   "metadata": {},
   "outputs": [
    {
     "data": {
      "text/html": [
       "<div>\n",
       "<style scoped>\n",
       "    .dataframe tbody tr th:only-of-type {\n",
       "        vertical-align: middle;\n",
       "    }\n",
       "\n",
       "    .dataframe tbody tr th {\n",
       "        vertical-align: top;\n",
       "    }\n",
       "\n",
       "    .dataframe thead th {\n",
       "        text-align: right;\n",
       "    }\n",
       "</style>\n",
       "<table border=\"1\" class=\"dataframe\">\n",
       "  <thead>\n",
       "    <tr style=\"text-align: right;\">\n",
       "      <th></th>\n",
       "      <th>messageID</th>\n",
       "      <th>text</th>\n",
       "    </tr>\n",
       "  </thead>\n",
       "  <tbody>\n",
       "    <tr>\n",
       "      <th>0</th>\n",
       "      <td>197cfc8937b8783a</td>\n",
       "      <td>Successful sign-in for tusharmalhan2564@gmail....</td>\n",
       "    </tr>\n",
       "    <tr>\n",
       "      <th>1</th>\n",
       "      <td>197cfa018674ba34</td>\n",
       "      <td>You appeared in 3 searches See who searched fo...</td>\n",
       "    </tr>\n",
       "    <tr>\n",
       "      <th>2</th>\n",
       "      <td>197cf7635329e0bf</td>\n",
       "      <td>Re: JD | Intern - Full Stack Developer | Vappc...</td>\n",
       "    </tr>\n",
       "    <tr>\n",
       "      <th>3</th>\n",
       "      <td>197cf5509cf808fb</td>\n",
       "      <td>JD | Intern - Full Stack Developer | Vappco De...</td>\n",
       "    </tr>\n",
       "    <tr>\n",
       "      <th>4</th>\n",
       "      <td>197cf52d3cb22f49</td>\n",
       "      <td>Tushar, Adobe is looking for you! Internship O...</td>\n",
       "    </tr>\n",
       "    <tr>\n",
       "      <th>5</th>\n",
       "      <td>197cf35863fade10</td>\n",
       "      <td>Adobe is hiring interns at INR 1 lakh/Month | ...</td>\n",
       "    </tr>\n",
       "    <tr>\n",
       "      <th>6</th>\n",
       "      <td>197cefee67b68ba0</td>\n",
       "      <td>[Last Day] IBM’s SkillsBuild virtual internshi...</td>\n",
       "    </tr>\n",
       "    <tr>\n",
       "      <th>7</th>\n",
       "      <td>197cee8a247560c1</td>\n",
       "      <td>Powered through the week? Now, power up at Cos...</td>\n",
       "    </tr>\n",
       "    <tr>\n",
       "      <th>8</th>\n",
       "      <td>197cecaddc2cca3b</td>\n",
       "      <td>We found something you might like How about an...</td>\n",
       "    </tr>\n",
       "    <tr>\n",
       "      <th>9</th>\n",
       "      <td>197ce887aad98b83</td>\n",
       "      <td>Your skills are in demand, Tushar Let&amp;#39;s ma...</td>\n",
       "    </tr>\n",
       "  </tbody>\n",
       "</table>\n",
       "</div>"
      ],
      "text/plain": [
       "          messageID                                               text\n",
       "0  197cfc8937b8783a  Successful sign-in for tusharmalhan2564@gmail....\n",
       "1  197cfa018674ba34  You appeared in 3 searches See who searched fo...\n",
       "2  197cf7635329e0bf  Re: JD | Intern - Full Stack Developer | Vappc...\n",
       "3  197cf5509cf808fb  JD | Intern - Full Stack Developer | Vappco De...\n",
       "4  197cf52d3cb22f49  Tushar, Adobe is looking for you! Internship O...\n",
       "5  197cf35863fade10  Adobe is hiring interns at INR 1 lakh/Month | ...\n",
       "6  197cefee67b68ba0  [Last Day] IBM’s SkillsBuild virtual internshi...\n",
       "7  197cee8a247560c1  Powered through the week? Now, power up at Cos...\n",
       "8  197cecaddc2cca3b  We found something you might like How about an...\n",
       "9  197ce887aad98b83  Your skills are in demand, Tushar Let&#39;s ma..."
      ]
     },
     "execution_count": 3,
     "metadata": {},
     "output_type": "execute_result"
    }
   ],
   "source": [
    "raw_df[\"text\"] = raw_df[\"subject\"].fillna(\"\") + \" \" + raw_df[\"summary\"]\n",
    "# Dropping uneccessary columns\n",
    "df = raw_df.drop(columns=[\"name\", \"senderEmail\", \"subject\", \"date\", \"summary\"])\n",
    "df.reset_index(drop = True, inplace = True)\n",
    "df.head(10)"
   ]
  },
  {
   "cell_type": "markdown",
   "id": "ccaaa8de-bc4c-4758-9de2-628a1155e38e",
   "metadata": {},
   "source": [
    "### Using 10 predefined labels to weakly classify email data\n",
    "\n",
    "\n",
    "#### Predefined Classes : \n",
    "##### 1. Food Orders\n",
    "##### 2. Google Forms\n",
    "##### 3. Login Attempts\n",
    "##### 4. Invoice Receipts\n",
    "##### 5. News Letters\n",
    "##### 6. Travel Bookings\n",
    "##### 7. LinkedIn\n",
    "##### 8. Promotions\n",
    "##### 9. Social Media\n",
    "##### 10. Others\n",
    "\n",
    "<br>\n",
    "\n",
    "### Initially classifing with weak labels with basic if else statements\n"
   ]
  },
  {
   "cell_type": "code",
   "execution_count": 4,
   "id": "7b2c33c8-7fef-41e6-b361-93612334a679",
   "metadata": {},
   "outputs": [],
   "source": [
    "def weak_classify(email_text):\n",
    "    text = email_text.lower()\n",
    "    if \"swiggy\" in text or \"zomato\" in text or \"blinkit\" in text or \"zepto\" in text or \"uber eats\" in text or \"delivered\" in text or \"order\" in text:\n",
    "        return \"FoodOrders\"\n",
    "    elif \"form submission\" in text or \"response recorded\" in text or \"google form\" in text:\n",
    "        return \"GoogleForm\"\n",
    "    elif \"login attempt\" in text or \"new sign-in\" in text or \"security alert\" in text:\n",
    "        return \"LoginAttempt\"\n",
    "    elif \"invoice\" in text or \"receipt\" in text or \"payment successful\" in text or \"transaction\" in text:\n",
    "        return \"InvoiceReceipt\"\n",
    "    elif \"digest\" in text or \"quora\" in text or \"newsletter\" in text or \"weekly update\" in text or \"top stories\" in text:\n",
    "        return \"NewsLetter\"\n",
    "    elif \"flight\" in text or \"booking\" in text or \"pnr\" in text or \"hotel\" in text or \"reservation\" in text:\n",
    "        return \"TravelBooking\"\n",
    "    elif \"linkedin\" in text or \"profile views\" in text or \"connection request\" in text or \"job alert\" in text:\n",
    "        return \"LinkedIn\"\n",
    "    elif \"sale\" in text or \"offer\" in text or \"discount\" in text or \"deal\" in text:\n",
    "        return \"Promotions\"\n",
    "    elif \"facebook\" in text or \"instagram\" in text or \"twitter\" in text or \"like\" in text or \"comment\" in text or \"threads\" in text or \"reddit\" in text:\n",
    "        return \"SocialMedia\"\n",
    "    else:\n",
    "        return \"Others\""
   ]
  },
  {
   "cell_type": "markdown",
   "id": "9495690d-5658-4118-9b82-df8fe533d0ab",
   "metadata": {},
   "source": [
    "#### Using weak_classify to assign labels to unlabeled raw data"
   ]
  },
  {
   "cell_type": "code",
   "execution_count": 5,
   "id": "0a9736d2-c5c5-4c5f-a625-5b0a9df4df2a",
   "metadata": {},
   "outputs": [
    {
     "data": {
      "text/html": [
       "<div>\n",
       "<style scoped>\n",
       "    .dataframe tbody tr th:only-of-type {\n",
       "        vertical-align: middle;\n",
       "    }\n",
       "\n",
       "    .dataframe tbody tr th {\n",
       "        vertical-align: top;\n",
       "    }\n",
       "\n",
       "    .dataframe thead th {\n",
       "        text-align: right;\n",
       "    }\n",
       "</style>\n",
       "<table border=\"1\" class=\"dataframe\">\n",
       "  <thead>\n",
       "    <tr style=\"text-align: right;\">\n",
       "      <th></th>\n",
       "      <th>messageID</th>\n",
       "      <th>text</th>\n",
       "      <th>label</th>\n",
       "    </tr>\n",
       "  </thead>\n",
       "  <tbody>\n",
       "    <tr>\n",
       "      <th>0</th>\n",
       "      <td>197cfc8937b8783a</td>\n",
       "      <td>Successful sign-in for tusharmalhan2564@gmail....</td>\n",
       "      <td>Others</td>\n",
       "    </tr>\n",
       "    <tr>\n",
       "      <th>1</th>\n",
       "      <td>197cfa018674ba34</td>\n",
       "      <td>You appeared in 3 searches See who searched fo...</td>\n",
       "      <td>Others</td>\n",
       "    </tr>\n",
       "    <tr>\n",
       "      <th>2</th>\n",
       "      <td>197cf7635329e0bf</td>\n",
       "      <td>Re: JD | Intern - Full Stack Developer | Vappc...</td>\n",
       "      <td>Others</td>\n",
       "    </tr>\n",
       "    <tr>\n",
       "      <th>3</th>\n",
       "      <td>197cf5509cf808fb</td>\n",
       "      <td>JD | Intern - Full Stack Developer | Vappco De...</td>\n",
       "      <td>Others</td>\n",
       "    </tr>\n",
       "    <tr>\n",
       "      <th>4</th>\n",
       "      <td>197cf52d3cb22f49</td>\n",
       "      <td>Tushar, Adobe is looking for you! Internship O...</td>\n",
       "      <td>Others</td>\n",
       "    </tr>\n",
       "    <tr>\n",
       "      <th>5</th>\n",
       "      <td>197cf35863fade10</td>\n",
       "      <td>Adobe is hiring interns at INR 1 lakh/Month | ...</td>\n",
       "      <td>Others</td>\n",
       "    </tr>\n",
       "    <tr>\n",
       "      <th>6</th>\n",
       "      <td>197cefee67b68ba0</td>\n",
       "      <td>[Last Day] IBM’s SkillsBuild virtual internshi...</td>\n",
       "      <td>Others</td>\n",
       "    </tr>\n",
       "    <tr>\n",
       "      <th>7</th>\n",
       "      <td>197cee8a247560c1</td>\n",
       "      <td>Powered through the week? Now, power up at Cos...</td>\n",
       "      <td>FoodOrders</td>\n",
       "    </tr>\n",
       "    <tr>\n",
       "      <th>8</th>\n",
       "      <td>197cecaddc2cca3b</td>\n",
       "      <td>We found something you might like How about an...</td>\n",
       "      <td>SocialMedia</td>\n",
       "    </tr>\n",
       "    <tr>\n",
       "      <th>9</th>\n",
       "      <td>197ce887aad98b83</td>\n",
       "      <td>Your skills are in demand, Tushar Let&amp;#39;s ma...</td>\n",
       "      <td>Others</td>\n",
       "    </tr>\n",
       "  </tbody>\n",
       "</table>\n",
       "</div>"
      ],
      "text/plain": [
       "          messageID                                               text  \\\n",
       "0  197cfc8937b8783a  Successful sign-in for tusharmalhan2564@gmail....   \n",
       "1  197cfa018674ba34  You appeared in 3 searches See who searched fo...   \n",
       "2  197cf7635329e0bf  Re: JD | Intern - Full Stack Developer | Vappc...   \n",
       "3  197cf5509cf808fb  JD | Intern - Full Stack Developer | Vappco De...   \n",
       "4  197cf52d3cb22f49  Tushar, Adobe is looking for you! Internship O...   \n",
       "5  197cf35863fade10  Adobe is hiring interns at INR 1 lakh/Month | ...   \n",
       "6  197cefee67b68ba0  [Last Day] IBM’s SkillsBuild virtual internshi...   \n",
       "7  197cee8a247560c1  Powered through the week? Now, power up at Cos...   \n",
       "8  197cecaddc2cca3b  We found something you might like How about an...   \n",
       "9  197ce887aad98b83  Your skills are in demand, Tushar Let&#39;s ma...   \n",
       "\n",
       "         label  \n",
       "0       Others  \n",
       "1       Others  \n",
       "2       Others  \n",
       "3       Others  \n",
       "4       Others  \n",
       "5       Others  \n",
       "6       Others  \n",
       "7   FoodOrders  \n",
       "8  SocialMedia  \n",
       "9       Others  "
      ]
     },
     "execution_count": 5,
     "metadata": {},
     "output_type": "execute_result"
    }
   ],
   "source": [
    "df[\"label\"] = df[\"text\"].apply(weak_classify)\n",
    "df.head(10)"
   ]
  },
  {
   "cell_type": "markdown",
   "id": "8a0b349c-07cb-44ca-8679-02d49e8a866b",
   "metadata": {},
   "source": [
    "### Emails form each weak label"
   ]
  },
  {
   "cell_type": "code",
   "execution_count": 6,
   "id": "7dc8194c-c905-4d97-84d5-abe75bad8448",
   "metadata": {},
   "outputs": [
    {
     "name": "stdout",
     "output_type": "stream",
     "text": [
      "label\n",
      "Others            368\n",
      "Promotions         35\n",
      "NewsLetter         28\n",
      "FoodOrders         23\n",
      "SocialMedia        21\n",
      "LinkedIn           14\n",
      "GoogleForm          6\n",
      "InvoiceReceipt      3\n",
      "TravelBooking       1\n",
      "LoginAttempt        1\n",
      "Name: count, dtype: int64\n"
     ]
    }
   ],
   "source": [
    "print(df[\"label\"].value_counts())"
   ]
  },
  {
   "cell_type": "markdown",
   "id": "246df7d8-aeb5-4ad6-a50c-e17bfaa33ff3",
   "metadata": {},
   "source": [
    "### Removing Weak Labels with very small count beacause they don't really help with classification"
   ]
  },
  {
   "cell_type": "code",
   "execution_count": 7,
   "id": "6f388eac-d0ce-4e15-b647-cfa725c80022",
   "metadata": {},
   "outputs": [],
   "source": [
    "counts = df[\"label\"].value_counts();\n",
    "small_classes = []\n",
    "for label, count in counts.items():\n",
    "    if count < 20:\n",
    "        small_classes.append(label)\n",
    "\n",
    "df[\"label\"] = df[\"label\"].apply(lambda x: \"Others\" if x in small_classes else x)"
   ]
  },
  {
   "cell_type": "markdown",
   "id": "2884a6bc-7871-40b6-9c4a-8e05b823b45b",
   "metadata": {},
   "source": [
    "### Downsample \"Others\" class as it count is much greater than any other class"
   ]
  },
  {
   "cell_type": "code",
   "execution_count": 8,
   "id": "93b4024e-9bf5-4849-a210-16b993d2a538",
   "metadata": {},
   "outputs": [
    {
     "name": "stdout",
     "output_type": "stream",
     "text": [
      "label\n",
      "Others         40\n",
      "Promotions     35\n",
      "NewsLetter     28\n",
      "FoodOrders     23\n",
      "SocialMedia    21\n",
      "Name: count, dtype: int64\n"
     ]
    }
   ],
   "source": [
    "from sklearn.utils import resample\n",
    "df_majority = df[df.label == \"Others\"]\n",
    "df_minority = df[df.label != \"Others\"]\n",
    "\n",
    "df_majority_downsampled = resample(\n",
    "    df_majority,\n",
    "    replace=False,\n",
    "    n_samples=40, \n",
    "    random_state=10\n",
    ")\n",
    "\n",
    "df_balanced = pd.concat([df_minority, df_majority_downsampled])\n",
    "print(df_balanced[\"label\"].value_counts())"
   ]
  },
  {
   "cell_type": "markdown",
   "id": "47d46b17-4a1d-4b6b-89db-4d9434ca8c2c",
   "metadata": {},
   "source": [
    "### Splitting the data into train and test"
   ]
  },
  {
   "cell_type": "code",
   "execution_count": 9,
   "id": "89d6205e-6881-434a-a8ad-245f256f6121",
   "metadata": {},
   "outputs": [],
   "source": [
    "from sklearn.model_selection import train_test_split\n",
    "X = df_balanced[\"text\"]\n",
    "y = df_balanced[\"label\"]\n",
    "\n",
    "X_train, X_test, y_train, y_test = train_test_split(X, y, test_size = 0.2, random_state = 10)"
   ]
  },
  {
   "cell_type": "markdown",
   "id": "8ce8bf1c-5785-4fd6-bb20-b757c2d515e5",
   "metadata": {},
   "source": [
    "### Training a logistic regression model to predict labels for future emails instead of relying on weak labels\n",
    "\n",
    "<br/>\n",
    "\n",
    "##### -- Since logistic regression can't directly understand words we need to use something called word embedding that converts words in vectors, more specifically using TF-IDF (Term Frequency Inverse Document Frequency) word embedding which is a frequency based word embedding. TF-IDF calculates how rare a frequent word in a document is in a corpus of documents, can be used to fugure out the keywords in a document."
   ]
  },
  {
   "cell_type": "code",
   "execution_count": 22,
   "id": "d181f194-e5c1-4aff-b139-dda0f4b23134",
   "metadata": {},
   "outputs": [],
   "source": [
    "from sklearn.feature_extraction.text import TfidfVectorizer\n",
    "from sklearn.linear_model import LogisticRegression\n",
    "\n",
    "vectorizer = TfidfVectorizer(stop_words=\"english\", max_features=1000)\n",
    "X_train_vec = vectorizer.fit_transform(X_train)\n",
    "X_test_vec = vectorizer.transform(X_test)\n",
    "\n",
    "clf = LogisticRegression(max_iter=1000, class_weight=\"balanced\", random_state=10)\n",
    "clf.fit(X_train_vec, y_train)\n",
    "\n",
    "y_pred = clf.predict(X_test_vec)"
   ]
  },
  {
   "cell_type": "markdown",
   "id": "9a2ea16e-6a8f-4b8d-a650-444579503345",
   "metadata": {},
   "source": [
    "### Performance Report"
   ]
  },
  {
   "cell_type": "code",
   "execution_count": 28,
   "id": "6ac8c475-1a87-4f6e-8f67-0fea6259c0b7",
   "metadata": {},
   "outputs": [
    {
     "name": "stdout",
     "output_type": "stream",
     "text": [
      "              precision    recall  f1-score   support\n",
      "\n",
      "  FoodOrders       1.00      0.67      0.80         3\n",
      "  NewsLetter       0.86      1.00      0.92         6\n",
      "      Others       0.64      1.00      0.78         7\n",
      "  Promotions       0.80      0.67      0.73         6\n",
      " SocialMedia       1.00      0.62      0.77         8\n",
      "\n",
      "    accuracy                           0.80        30\n",
      "   macro avg       0.86      0.79      0.80        30\n",
      "weighted avg       0.85      0.80      0.80        30\n",
      "\n"
     ]
    }
   ],
   "source": [
    "from sklearn.metrics import classification_report\n",
    "print(classification_report(y_test, y_pred))"
   ]
  },
  {
   "cell_type": "markdown",
   "id": "48a29b8d-a82c-4041-91d5-6a6566f6ceff",
   "metadata": {},
   "source": [
    "### Example Data"
   ]
  },
  {
   "cell_type": "code",
   "execution_count": 29,
   "id": "12772515-0658-42dc-9fd8-7dece6427af0",
   "metadata": {},
   "outputs": [
    {
     "name": "stdout",
     "output_type": "stream",
     "text": [
      "Text: Your Swiggy order #1234 has been delivered successfully. Enjoy your meal!\n",
      "Predicted label: FoodOrders\n",
      "Text: Your response has been recorded for Google Form: Feedback Survey 2025.\n",
      "Predicted label: Others\n",
      "Text: New sign-in attempt detected on your account from a new device. Was this you?\n",
      "Predicted label: Others\n",
      "Text: Quora Digest: Top stories for you this week — Discover trending questions and answers.\n",
      "Predicted label: NewsLetter\n"
     ]
    }
   ],
   "source": [
    "examples = [\n",
    "    \"Your Swiggy order #1234 has been delivered successfully. Enjoy your meal!\",\n",
    "    \"Your response has been recorded for Google Form: Feedback Survey 2025.\",\n",
    "    \"New sign-in attempt detected on your account from a new device. Was this you?\",\n",
    "    \"Quora Digest: Top stories for you this week — Discover trending questions and answers.\",\n",
    "]\n",
    "\n",
    "example_vecs = vectorizer.transform(examples)\n",
    "predicted_labels = clf.predict(example_vecs)\n",
    "for text, label in zip(examples, predicted_labels):\n",
    "    print(f\"Text: {text}\")\n",
    "    print(f\"Predicted label: {label}\")\n"
   ]
  },
  {
   "cell_type": "code",
   "execution_count": null,
   "id": "32f85098-e7ca-4222-991c-e4fa0266a31a",
   "metadata": {},
   "outputs": [],
   "source": []
  }
 ],
 "metadata": {
  "kernelspec": {
   "display_name": "Python 3 (ipykernel)",
   "language": "python",
   "name": "python3"
  },
  "language_info": {
   "codemirror_mode": {
    "name": "ipython",
    "version": 3
   },
   "file_extension": ".py",
   "mimetype": "text/x-python",
   "name": "python",
   "nbconvert_exporter": "python",
   "pygments_lexer": "ipython3",
   "version": "3.12.6"
  }
 },
 "nbformat": 4,
 "nbformat_minor": 5
}
